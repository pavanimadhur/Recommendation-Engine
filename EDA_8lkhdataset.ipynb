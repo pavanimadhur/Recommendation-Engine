{
 "cells": [
  {
   "cell_type": "code",
   "execution_count": 2,
   "metadata": {},
   "outputs": [],
   "source": [
    "import pandas as pd\n",
    "import numpy as np\n",
    "df =  pd.read_csv('8Lkh_with_Sentiment_analysis.csv')"
   ]
  },
  {
   "cell_type": "code",
   "execution_count": 3,
   "metadata": {},
   "outputs": [],
   "source": [
    "df =df.drop('Unnamed: 0', axis=1)"
   ]
  },
  {
   "cell_type": "code",
   "execution_count": 4,
   "metadata": {},
   "outputs": [
    {
     "data": {
      "text/html": [
       "<div>\n",
       "<style scoped>\n",
       "    .dataframe tbody tr th:only-of-type {\n",
       "        vertical-align: middle;\n",
       "    }\n",
       "\n",
       "    .dataframe tbody tr th {\n",
       "        vertical-align: top;\n",
       "    }\n",
       "\n",
       "    .dataframe thead th {\n",
       "        text-align: right;\n",
       "    }\n",
       "</style>\n",
       "<table border=\"1\" class=\"dataframe\">\n",
       "  <thead>\n",
       "    <tr style=\"text-align: right;\">\n",
       "      <th></th>\n",
       "      <th>user_name</th>\n",
       "      <th>item_id</th>\n",
       "      <th>hours</th>\n",
       "      <th>review_text</th>\n",
       "      <th>total_products</th>\n",
       "      <th>date</th>\n",
       "      <th>Emojis_updated</th>\n",
       "      <th>Emoticons</th>\n",
       "      <th>translated_Review</th>\n",
       "      <th>scores</th>\n",
       "      <th>compound</th>\n",
       "      <th>comp_score</th>\n",
       "      <th>score_vader</th>\n",
       "      <th>review_polarity</th>\n",
       "    </tr>\n",
       "  </thead>\n",
       "  <tbody>\n",
       "    <tr>\n",
       "      <th>0</th>\n",
       "      <td>coolguyrift</td>\n",
       "      <td>32430</td>\n",
       "      <td>15.6</td>\n",
       "      <td>One of the best Star Wars games ever made. A g...</td>\n",
       "      <td>298.0</td>\n",
       "      <td>2016-03-11</td>\n",
       "      <td>One of the best Star Wars games ever made. A g...</td>\n",
       "      <td>One of the best Star Wars games ever made. A g...</td>\n",
       "      <td>one of the good Star Wars game ever make . a g...</td>\n",
       "      <td>{'neg': 0.092, 'neu': 0.528, 'pos': 0.38, 'com...</td>\n",
       "      <td>0.9974</td>\n",
       "      <td>True</td>\n",
       "      <td>NaN</td>\n",
       "      <td>3</td>\n",
       "    </tr>\n",
       "    <tr>\n",
       "      <th>1</th>\n",
       "      <td>lumpy</td>\n",
       "      <td>10180</td>\n",
       "      <td>2.0</td>\n",
       "      <td>this game brings back allot of memory :D 10/10</td>\n",
       "      <td>55.0</td>\n",
       "      <td>2014-11-05</td>\n",
       "      <td>this game brings back allot of memory :D 10/10</td>\n",
       "      <td>this game brings back allot of memory Laughing...</td>\n",
       "      <td>this game bring back allot of memory laughing_...</td>\n",
       "      <td>{'neg': 0.0, 'neu': 1.0, 'pos': 0.0, 'compound...</td>\n",
       "      <td>0.0000</td>\n",
       "      <td>True</td>\n",
       "      <td>NaN</td>\n",
       "      <td>3</td>\n",
       "    </tr>\n",
       "    <tr>\n",
       "      <th>2</th>\n",
       "      <td>m⌬rtius|psn|slamyourjam</td>\n",
       "      <td>230050</td>\n",
       "      <td>2.8</td>\n",
       "      <td>A quest about DLC.</td>\n",
       "      <td>477.0</td>\n",
       "      <td>2017-03-12</td>\n",
       "      <td>A quest about DLC.</td>\n",
       "      <td>A quest about DLC.</td>\n",
       "      <td>a quest about DLC .</td>\n",
       "      <td>{'neg': 0.0, 'neu': 1.0, 'pos': 0.0, 'compound...</td>\n",
       "      <td>0.0000</td>\n",
       "      <td>True</td>\n",
       "      <td>NaN</td>\n",
       "      <td>3</td>\n",
       "    </tr>\n",
       "    <tr>\n",
       "      <th>3</th>\n",
       "      <td>zed</td>\n",
       "      <td>33230</td>\n",
       "      <td>36.4</td>\n",
       "      <td>THE BEST A GAME EVER!</td>\n",
       "      <td>25.0</td>\n",
       "      <td>2017-09-09</td>\n",
       "      <td>THE BEST A GAME EVER!</td>\n",
       "      <td>THE BEST A GAME EVER!</td>\n",
       "      <td>the BEST A GAME ever !</td>\n",
       "      <td>{'neg': 0.0, 'neu': 0.365, 'pos': 0.635, 'comp...</td>\n",
       "      <td>0.7371</td>\n",
       "      <td>True</td>\n",
       "      <td>NaN</td>\n",
       "      <td>3</td>\n",
       "    </tr>\n",
       "    <tr>\n",
       "      <th>4</th>\n",
       "      <td>phil</td>\n",
       "      <td>231200</td>\n",
       "      <td>7.7</td>\n",
       "      <td>I would definitely recommend this game. The on...</td>\n",
       "      <td>51.0</td>\n",
       "      <td>2014-01-06</td>\n",
       "      <td>I would definitely recommend this game. The on...</td>\n",
       "      <td>I would definitely recommend this game. The on...</td>\n",
       "      <td>I would definitely recommend this game . the o...</td>\n",
       "      <td>{'neg': 0.03, 'neu': 0.802, 'pos': 0.168, 'com...</td>\n",
       "      <td>0.9947</td>\n",
       "      <td>True</td>\n",
       "      <td>NaN</td>\n",
       "      <td>3</td>\n",
       "    </tr>\n",
       "  </tbody>\n",
       "</table>\n",
       "</div>"
      ],
      "text/plain": [
       "                 user_name  item_id  hours  \\\n",
       "0              coolguyrift    32430   15.6   \n",
       "1                    lumpy    10180    2.0   \n",
       "2  m⌬rtius|psn|slamyourjam   230050    2.8   \n",
       "3                      zed    33230   36.4   \n",
       "4                     phil   231200    7.7   \n",
       "\n",
       "                                         review_text  total_products  \\\n",
       "0  One of the best Star Wars games ever made. A g...           298.0   \n",
       "1     this game brings back allot of memory :D 10/10            55.0   \n",
       "2                                 A quest about DLC.           477.0   \n",
       "3                              THE BEST A GAME EVER!            25.0   \n",
       "4  I would definitely recommend this game. The on...            51.0   \n",
       "\n",
       "         date                                     Emojis_updated  \\\n",
       "0  2016-03-11  One of the best Star Wars games ever made. A g...   \n",
       "1  2014-11-05     this game brings back allot of memory :D 10/10   \n",
       "2  2017-03-12                                 A quest about DLC.   \n",
       "3  2017-09-09                              THE BEST A GAME EVER!   \n",
       "4  2014-01-06  I would definitely recommend this game. The on...   \n",
       "\n",
       "                                           Emoticons  \\\n",
       "0  One of the best Star Wars games ever made. A g...   \n",
       "1  this game brings back allot of memory Laughing...   \n",
       "2                                 A quest about DLC.   \n",
       "3                              THE BEST A GAME EVER!   \n",
       "4  I would definitely recommend this game. The on...   \n",
       "\n",
       "                                   translated_Review  \\\n",
       "0  one of the good Star Wars game ever make . a g...   \n",
       "1  this game bring back allot of memory laughing_...   \n",
       "2                                a quest about DLC .   \n",
       "3                             the BEST A GAME ever !   \n",
       "4  I would definitely recommend this game . the o...   \n",
       "\n",
       "                                              scores  compound  comp_score  \\\n",
       "0  {'neg': 0.092, 'neu': 0.528, 'pos': 0.38, 'com...    0.9974        True   \n",
       "1  {'neg': 0.0, 'neu': 1.0, 'pos': 0.0, 'compound...    0.0000        True   \n",
       "2  {'neg': 0.0, 'neu': 1.0, 'pos': 0.0, 'compound...    0.0000        True   \n",
       "3  {'neg': 0.0, 'neu': 0.365, 'pos': 0.635, 'comp...    0.7371        True   \n",
       "4  {'neg': 0.03, 'neu': 0.802, 'pos': 0.168, 'com...    0.9947        True   \n",
       "\n",
       "   score_vader  review_polarity  \n",
       "0          NaN                3  \n",
       "1          NaN                3  \n",
       "2          NaN                3  \n",
       "3          NaN                3  \n",
       "4          NaN                3  "
      ]
     },
     "execution_count": 4,
     "metadata": {},
     "output_type": "execute_result"
    }
   ],
   "source": [
    "df.head()"
   ]
  },
  {
   "cell_type": "code",
   "execution_count": 7,
   "metadata": {},
   "outputs": [],
   "source": [
    "df = df[['user_name', 'item_id', 'hours','total_products','review_polarity']]"
   ]
  },
  {
   "cell_type": "code",
   "execution_count": 5,
   "metadata": {},
   "outputs": [],
   "source": [
    "df_sample = df[['user_name', 'item_id']]"
   ]
  },
  {
   "cell_type": "code",
   "execution_count": 6,
   "metadata": {},
   "outputs": [],
   "source": [
    "df.to_pickle('sample_df.pkl')"
   ]
  },
  {
   "cell_type": "code",
   "execution_count": 8,
   "metadata": {},
   "outputs": [
    {
     "data": {
      "text/html": [
       "<div>\n",
       "<style scoped>\n",
       "    .dataframe tbody tr th:only-of-type {\n",
       "        vertical-align: middle;\n",
       "    }\n",
       "\n",
       "    .dataframe tbody tr th {\n",
       "        vertical-align: top;\n",
       "    }\n",
       "\n",
       "    .dataframe thead th {\n",
       "        text-align: right;\n",
       "    }\n",
       "</style>\n",
       "<table border=\"1\" class=\"dataframe\">\n",
       "  <thead>\n",
       "    <tr style=\"text-align: right;\">\n",
       "      <th></th>\n",
       "      <th>user_name</th>\n",
       "      <th>item_id</th>\n",
       "      <th>hours</th>\n",
       "      <th>total_products</th>\n",
       "      <th>review_polarity</th>\n",
       "    </tr>\n",
       "  </thead>\n",
       "  <tbody>\n",
       "    <tr>\n",
       "      <th>0</th>\n",
       "      <td>coolguyrift</td>\n",
       "      <td>32430</td>\n",
       "      <td>15.6</td>\n",
       "      <td>298.0</td>\n",
       "      <td>3</td>\n",
       "    </tr>\n",
       "    <tr>\n",
       "      <th>1</th>\n",
       "      <td>lumpy</td>\n",
       "      <td>10180</td>\n",
       "      <td>2.0</td>\n",
       "      <td>55.0</td>\n",
       "      <td>3</td>\n",
       "    </tr>\n",
       "    <tr>\n",
       "      <th>2</th>\n",
       "      <td>m⌬rtius|psn|slamyourjam</td>\n",
       "      <td>230050</td>\n",
       "      <td>2.8</td>\n",
       "      <td>477.0</td>\n",
       "      <td>3</td>\n",
       "    </tr>\n",
       "    <tr>\n",
       "      <th>3</th>\n",
       "      <td>zed</td>\n",
       "      <td>33230</td>\n",
       "      <td>36.4</td>\n",
       "      <td>25.0</td>\n",
       "      <td>3</td>\n",
       "    </tr>\n",
       "    <tr>\n",
       "      <th>4</th>\n",
       "      <td>phil</td>\n",
       "      <td>231200</td>\n",
       "      <td>7.7</td>\n",
       "      <td>51.0</td>\n",
       "      <td>3</td>\n",
       "    </tr>\n",
       "  </tbody>\n",
       "</table>\n",
       "</div>"
      ],
      "text/plain": [
       "                 user_name  item_id  hours  total_products  review_polarity\n",
       "0              coolguyrift    32430   15.6           298.0                3\n",
       "1                    lumpy    10180    2.0            55.0                3\n",
       "2  m⌬rtius|psn|slamyourjam   230050    2.8           477.0                3\n",
       "3                      zed    33230   36.4            25.0                3\n",
       "4                     phil   231200    7.7            51.0                3"
      ]
     },
     "execution_count": 8,
     "metadata": {},
     "output_type": "execute_result"
    }
   ],
   "source": [
    "df.head()"
   ]
  },
  {
   "cell_type": "code",
   "execution_count": 9,
   "metadata": {},
   "outputs": [],
   "source": [
    "game_data = pd.read_csv('3k_game_Data.csv')"
   ]
  },
  {
   "cell_type": "code",
   "execution_count": 11,
   "metadata": {},
   "outputs": [],
   "source": [
    "game_data =game_data.drop('Unnamed: 0', axis=1)"
   ]
  },
  {
   "cell_type": "code",
   "execution_count": 13,
   "metadata": {},
   "outputs": [],
   "source": [
    "final_dataframe = pd.merge(df, game_data, on='item_id')"
   ]
  },
  {
   "cell_type": "code",
   "execution_count": 14,
   "metadata": {},
   "outputs": [
    {
     "data": {
      "text/html": [
       "<div>\n",
       "<style scoped>\n",
       "    .dataframe tbody tr th:only-of-type {\n",
       "        vertical-align: middle;\n",
       "    }\n",
       "\n",
       "    .dataframe tbody tr th {\n",
       "        vertical-align: top;\n",
       "    }\n",
       "\n",
       "    .dataframe thead th {\n",
       "        text-align: right;\n",
       "    }\n",
       "</style>\n",
       "<table border=\"1\" class=\"dataframe\">\n",
       "  <thead>\n",
       "    <tr style=\"text-align: right;\">\n",
       "      <th></th>\n",
       "      <th>user_name</th>\n",
       "      <th>item_id</th>\n",
       "      <th>hours</th>\n",
       "      <th>total_products</th>\n",
       "      <th>review_polarity</th>\n",
       "      <th>name</th>\n",
       "      <th>developer</th>\n",
       "      <th>genre</th>\n",
       "      <th>average_forever</th>\n",
       "      <th>tags</th>\n",
       "      <th>median_forever</th>\n",
       "    </tr>\n",
       "  </thead>\n",
       "  <tbody>\n",
       "    <tr>\n",
       "      <th>0</th>\n",
       "      <td>coolguyrift</td>\n",
       "      <td>32430</td>\n",
       "      <td>15.6</td>\n",
       "      <td>298.0</td>\n",
       "      <td>3</td>\n",
       "      <td>STAR WARS - The Force Unleashed Ultimate Sith ...</td>\n",
       "      <td>LucasArts</td>\n",
       "      <td>Action</td>\n",
       "      <td>233</td>\n",
       "      <td>{'Action': 200, 'Third Person': 122, 'Singlepl...</td>\n",
       "      <td>136</td>\n",
       "    </tr>\n",
       "    <tr>\n",
       "      <th>1</th>\n",
       "      <td>bort</td>\n",
       "      <td>32430</td>\n",
       "      <td>8.9</td>\n",
       "      <td>92.0</td>\n",
       "      <td>3</td>\n",
       "      <td>STAR WARS - The Force Unleashed Ultimate Sith ...</td>\n",
       "      <td>LucasArts</td>\n",
       "      <td>Action</td>\n",
       "      <td>233</td>\n",
       "      <td>{'Action': 200, 'Third Person': 122, 'Singlepl...</td>\n",
       "      <td>136</td>\n",
       "    </tr>\n",
       "    <tr>\n",
       "      <th>2</th>\n",
       "      <td>ヽ(｡･ω･｡)ﾉ</td>\n",
       "      <td>32430</td>\n",
       "      <td>11.0</td>\n",
       "      <td>420.0</td>\n",
       "      <td>3</td>\n",
       "      <td>STAR WARS - The Force Unleashed Ultimate Sith ...</td>\n",
       "      <td>LucasArts</td>\n",
       "      <td>Action</td>\n",
       "      <td>233</td>\n",
       "      <td>{'Action': 200, 'Third Person': 122, 'Singlepl...</td>\n",
       "      <td>136</td>\n",
       "    </tr>\n",
       "    <tr>\n",
       "      <th>3</th>\n",
       "      <td>lowkey</td>\n",
       "      <td>32430</td>\n",
       "      <td>0.2</td>\n",
       "      <td>54.0</td>\n",
       "      <td>2</td>\n",
       "      <td>STAR WARS - The Force Unleashed Ultimate Sith ...</td>\n",
       "      <td>LucasArts</td>\n",
       "      <td>Action</td>\n",
       "      <td>233</td>\n",
       "      <td>{'Action': 200, 'Third Person': 122, 'Singlepl...</td>\n",
       "      <td>136</td>\n",
       "    </tr>\n",
       "    <tr>\n",
       "      <th>4</th>\n",
       "      <td>greg</td>\n",
       "      <td>32430</td>\n",
       "      <td>20.8</td>\n",
       "      <td>186.0</td>\n",
       "      <td>2</td>\n",
       "      <td>STAR WARS - The Force Unleashed Ultimate Sith ...</td>\n",
       "      <td>LucasArts</td>\n",
       "      <td>Action</td>\n",
       "      <td>233</td>\n",
       "      <td>{'Action': 200, 'Third Person': 122, 'Singlepl...</td>\n",
       "      <td>136</td>\n",
       "    </tr>\n",
       "    <tr>\n",
       "      <th>...</th>\n",
       "      <td>...</td>\n",
       "      <td>...</td>\n",
       "      <td>...</td>\n",
       "      <td>...</td>\n",
       "      <td>...</td>\n",
       "      <td>...</td>\n",
       "      <td>...</td>\n",
       "      <td>...</td>\n",
       "      <td>...</td>\n",
       "      <td>...</td>\n",
       "      <td>...</td>\n",
       "    </tr>\n",
       "    <tr>\n",
       "      <th>826276</th>\n",
       "      <td>ted</td>\n",
       "      <td>435300</td>\n",
       "      <td>2.7</td>\n",
       "      <td>556.0</td>\n",
       "      <td>3</td>\n",
       "      <td>We Know the Devil</td>\n",
       "      <td>Pillow Fight, Worst Girls Games</td>\n",
       "      <td>Adventure, Casual, Indie</td>\n",
       "      <td>0</td>\n",
       "      <td>{'Indie': 68, 'Visual Novel': 57, 'LGBTQ+': 54...</td>\n",
       "      <td>0</td>\n",
       "    </tr>\n",
       "    <tr>\n",
       "      <th>826277</th>\n",
       "      <td>ariamaki</td>\n",
       "      <td>435300</td>\n",
       "      <td>0.7</td>\n",
       "      <td>691.0</td>\n",
       "      <td>3</td>\n",
       "      <td>We Know the Devil</td>\n",
       "      <td>Pillow Fight, Worst Girls Games</td>\n",
       "      <td>Adventure, Casual, Indie</td>\n",
       "      <td>0</td>\n",
       "      <td>{'Indie': 68, 'Visual Novel': 57, 'LGBTQ+': 54...</td>\n",
       "      <td>0</td>\n",
       "    </tr>\n",
       "    <tr>\n",
       "      <th>826278</th>\n",
       "      <td>drifter</td>\n",
       "      <td>435300</td>\n",
       "      <td>3.8</td>\n",
       "      <td>69.0</td>\n",
       "      <td>3</td>\n",
       "      <td>We Know the Devil</td>\n",
       "      <td>Pillow Fight, Worst Girls Games</td>\n",
       "      <td>Adventure, Casual, Indie</td>\n",
       "      <td>0</td>\n",
       "      <td>{'Indie': 68, 'Visual Novel': 57, 'LGBTQ+': 54...</td>\n",
       "      <td>0</td>\n",
       "    </tr>\n",
       "    <tr>\n",
       "      <th>826279</th>\n",
       "      <td>hush</td>\n",
       "      <td>435300</td>\n",
       "      <td>5.8</td>\n",
       "      <td>102.0</td>\n",
       "      <td>2</td>\n",
       "      <td>We Know the Devil</td>\n",
       "      <td>Pillow Fight, Worst Girls Games</td>\n",
       "      <td>Adventure, Casual, Indie</td>\n",
       "      <td>0</td>\n",
       "      <td>{'Indie': 68, 'Visual Novel': 57, 'LGBTQ+': 54...</td>\n",
       "      <td>0</td>\n",
       "    </tr>\n",
       "    <tr>\n",
       "      <th>826280</th>\n",
       "      <td>nellodee</td>\n",
       "      <td>435300</td>\n",
       "      <td>1.3</td>\n",
       "      <td>3616.0</td>\n",
       "      <td>3</td>\n",
       "      <td>We Know the Devil</td>\n",
       "      <td>Pillow Fight, Worst Girls Games</td>\n",
       "      <td>Adventure, Casual, Indie</td>\n",
       "      <td>0</td>\n",
       "      <td>{'Indie': 68, 'Visual Novel': 57, 'LGBTQ+': 54...</td>\n",
       "      <td>0</td>\n",
       "    </tr>\n",
       "  </tbody>\n",
       "</table>\n",
       "<p>826281 rows × 11 columns</p>\n",
       "</div>"
      ],
      "text/plain": [
       "          user_name  item_id  hours  total_products  review_polarity  \\\n",
       "0       coolguyrift    32430   15.6           298.0                3   \n",
       "1              bort    32430    8.9            92.0                3   \n",
       "2         ヽ(｡･ω･｡)ﾉ    32430   11.0           420.0                3   \n",
       "3            lowkey    32430    0.2            54.0                2   \n",
       "4              greg    32430   20.8           186.0                2   \n",
       "...             ...      ...    ...             ...              ...   \n",
       "826276          ted   435300    2.7           556.0                3   \n",
       "826277     ariamaki   435300    0.7           691.0                3   \n",
       "826278      drifter   435300    3.8            69.0                3   \n",
       "826279         hush   435300    5.8           102.0                2   \n",
       "826280     nellodee   435300    1.3          3616.0                3   \n",
       "\n",
       "                                                     name  \\\n",
       "0       STAR WARS - The Force Unleashed Ultimate Sith ...   \n",
       "1       STAR WARS - The Force Unleashed Ultimate Sith ...   \n",
       "2       STAR WARS - The Force Unleashed Ultimate Sith ...   \n",
       "3       STAR WARS - The Force Unleashed Ultimate Sith ...   \n",
       "4       STAR WARS - The Force Unleashed Ultimate Sith ...   \n",
       "...                                                   ...   \n",
       "826276                                  We Know the Devil   \n",
       "826277                                  We Know the Devil   \n",
       "826278                                  We Know the Devil   \n",
       "826279                                  We Know the Devil   \n",
       "826280                                  We Know the Devil   \n",
       "\n",
       "                              developer                     genre  \\\n",
       "0                             LucasArts                    Action   \n",
       "1                             LucasArts                    Action   \n",
       "2                             LucasArts                    Action   \n",
       "3                             LucasArts                    Action   \n",
       "4                             LucasArts                    Action   \n",
       "...                                 ...                       ...   \n",
       "826276  Pillow Fight, Worst Girls Games  Adventure, Casual, Indie   \n",
       "826277  Pillow Fight, Worst Girls Games  Adventure, Casual, Indie   \n",
       "826278  Pillow Fight, Worst Girls Games  Adventure, Casual, Indie   \n",
       "826279  Pillow Fight, Worst Girls Games  Adventure, Casual, Indie   \n",
       "826280  Pillow Fight, Worst Girls Games  Adventure, Casual, Indie   \n",
       "\n",
       "        average_forever                                               tags  \\\n",
       "0                   233  {'Action': 200, 'Third Person': 122, 'Singlepl...   \n",
       "1                   233  {'Action': 200, 'Third Person': 122, 'Singlepl...   \n",
       "2                   233  {'Action': 200, 'Third Person': 122, 'Singlepl...   \n",
       "3                   233  {'Action': 200, 'Third Person': 122, 'Singlepl...   \n",
       "4                   233  {'Action': 200, 'Third Person': 122, 'Singlepl...   \n",
       "...                 ...                                                ...   \n",
       "826276                0  {'Indie': 68, 'Visual Novel': 57, 'LGBTQ+': 54...   \n",
       "826277                0  {'Indie': 68, 'Visual Novel': 57, 'LGBTQ+': 54...   \n",
       "826278                0  {'Indie': 68, 'Visual Novel': 57, 'LGBTQ+': 54...   \n",
       "826279                0  {'Indie': 68, 'Visual Novel': 57, 'LGBTQ+': 54...   \n",
       "826280                0  {'Indie': 68, 'Visual Novel': 57, 'LGBTQ+': 54...   \n",
       "\n",
       "        median_forever  \n",
       "0                  136  \n",
       "1                  136  \n",
       "2                  136  \n",
       "3                  136  \n",
       "4                  136  \n",
       "...                ...  \n",
       "826276               0  \n",
       "826277               0  \n",
       "826278               0  \n",
       "826279               0  \n",
       "826280               0  \n",
       "\n",
       "[826281 rows x 11 columns]"
      ]
     },
     "execution_count": 14,
     "metadata": {},
     "output_type": "execute_result"
    }
   ],
   "source": [
    "final_dataframe"
   ]
  },
  {
   "cell_type": "code",
   "execution_count": 16,
   "metadata": {},
   "outputs": [
    {
     "data": {
      "text/plain": [
       "user_name             0\n",
       "item_id               0\n",
       "hours                 0\n",
       "total_products        0\n",
       "review_polarity       0\n",
       "name                  0\n",
       "developer          2260\n",
       "genre              4195\n",
       "average_forever       0\n",
       "tags                  0\n",
       "median_forever        0\n",
       "dtype: int64"
      ]
     },
     "execution_count": 16,
     "metadata": {},
     "output_type": "execute_result"
    }
   ],
   "source": [
    "# Checking for null values\n",
    "final_dataframe.isnull().sum()"
   ]
  },
  {
   "cell_type": "code",
   "execution_count": 23,
   "metadata": {},
   "outputs": [
    {
     "data": {
      "text/plain": [
       "9145"
      ]
     },
     "execution_count": 23,
     "metadata": {},
     "output_type": "execute_result"
    }
   ],
   "source": [
    "#number of unique players\n",
    "final_dataframe['user_name'].nunique()"
   ]
  },
  {
   "cell_type": "code",
   "execution_count": 24,
   "metadata": {},
   "outputs": [
    {
     "data": {
      "text/plain": [
       "3007"
      ]
     },
     "execution_count": 24,
     "metadata": {},
     "output_type": "execute_result"
    }
   ],
   "source": [
    "#Number of unique games\n",
    "final_dataframe['item_id'].nunique()"
   ]
  },
  {
   "cell_type": "code",
   "execution_count": 25,
   "metadata": {},
   "outputs": [
    {
     "data": {
      "text/plain": [
       "72996161.9"
      ]
     },
     "execution_count": 25,
     "metadata": {},
     "output_type": "execute_result"
    }
   ],
   "source": [
    "# Total hours played across all games\n",
    "\n",
    "final_dataframe['hours'].sum()"
   ]
  },
  {
   "cell_type": "code",
   "execution_count": 121,
   "metadata": {},
   "outputs": [
    {
     "data": {
      "text/plain": [
       "0                 Team Fortress 2\n",
       "1                            Rust\n",
       "2                   Borderlands 2\n",
       "3                       Fallout 4\n",
       "4                        Portal 2\n",
       "5                            DayZ\n",
       "6              Grand Theft Auto V\n",
       "7     Life is Strange - Episode 1\n",
       "8                       Robocraft\n",
       "9      Chivalry: Medieval Warfare\n",
       "10                       Warframe\n",
       "11              Heroes & Generals\n",
       "12                      Undertale\n",
       "13                         Arma 3\n",
       "14                      Starbound\n",
       "15                    Half-Life 2\n",
       "16               Z1 Battle Royale\n",
       "17                    Garry's Mod\n",
       "18         Counter-Strike: Source\n",
       "19           The Binding of Isaac\n",
       "Name: name, dtype: object"
      ]
     },
     "execution_count": 121,
     "metadata": {},
     "output_type": "execute_result"
    }
   ],
   "source": [
    " #Groupby to show the games with the highest player count\n",
    "\n",
    "df_count = final_dataframe.groupby('name')['user_name'].nunique().sort_values(ascending=False).head(20)\n",
    "df_count = df_count.to_frame()\n",
    "df_count = df_count.reset_index()\n",
    "df_count['name']"
   ]
  },
  {
   "cell_type": "code",
   "execution_count": 122,
   "metadata": {},
   "outputs": [
    {
     "data": {
      "image/png": "[encoded data removed]",
      "text/plain": [
       "<Figure size 720x576 with 1 Axes>"
      ]
     },
     "metadata": {
      "needs_background": "light"
     },
     "output_type": "display_data"
    }
   ],
   "source": [
    "# Plot to show the top-20 games with the highest player count\n",
    "# Data visualization packages\n",
    "import matplotlib,numpy\n",
    "import matplotlib.pyplot as plt\n",
    "from matplotlib import cm\n",
    "import seaborn as sns\n",
    "import random\n",
    "fig = plt.figure(figsize = (10, 8))\n",
    " \n",
    "plt.xlabel(\"Game Title\")\n",
    "plt.ylabel(\"Count of Players\")\n",
    "plt.title(\"Top-20 Games in termsof Player count\")\n",
    "plt.bar(df_count[\"name\"], df_count[\"user_name\"], color=plt.cm.Paired(np.arange(len(df_count))))\n",
    "plt.xticks(rotation='vertical')\n",
    "plt.show()"
   ]
  },
  {
   "cell_type": "code",
   "execution_count": 123,
   "metadata": {},
   "outputs": [
    {
     "data": {
      "text/html": [
       "<div>\n",
       "<style scoped>\n",
       "    .dataframe tbody tr th:only-of-type {\n",
       "        vertical-align: middle;\n",
       "    }\n",
       "\n",
       "    .dataframe tbody tr th {\n",
       "        vertical-align: top;\n",
       "    }\n",
       "\n",
       "    .dataframe thead th {\n",
       "        text-align: right;\n",
       "    }\n",
       "</style>\n",
       "<table border=\"1\" class=\"dataframe\">\n",
       "  <thead>\n",
       "    <tr style=\"text-align: right;\">\n",
       "      <th></th>\n",
       "      <th>name</th>\n",
       "      <th>hours</th>\n",
       "    </tr>\n",
       "  </thead>\n",
       "  <tbody>\n",
       "    <tr>\n",
       "      <th>0</th>\n",
       "      <td>Team Fortress 2</td>\n",
       "      <td>10728980.6</td>\n",
       "    </tr>\n",
       "    <tr>\n",
       "      <th>1</th>\n",
       "      <td>Rust</td>\n",
       "      <td>3897236.2</td>\n",
       "    </tr>\n",
       "    <tr>\n",
       "      <th>2</th>\n",
       "      <td>ARK: Survival Evolved</td>\n",
       "      <td>2685536.6</td>\n",
       "    </tr>\n",
       "    <tr>\n",
       "      <th>3</th>\n",
       "      <td>Arma 3</td>\n",
       "      <td>2587551.2</td>\n",
       "    </tr>\n",
       "    <tr>\n",
       "      <th>4</th>\n",
       "      <td>Garry's Mod</td>\n",
       "      <td>2479820.8</td>\n",
       "    </tr>\n",
       "    <tr>\n",
       "      <th>5</th>\n",
       "      <td>Warframe</td>\n",
       "      <td>2157596.8</td>\n",
       "    </tr>\n",
       "    <tr>\n",
       "      <th>6</th>\n",
       "      <td>DayZ</td>\n",
       "      <td>1255647.1</td>\n",
       "    </tr>\n",
       "    <tr>\n",
       "      <th>7</th>\n",
       "      <td>Counter-Strike: Source</td>\n",
       "      <td>1184695.3</td>\n",
       "    </tr>\n",
       "    <tr>\n",
       "      <th>8</th>\n",
       "      <td>Mount &amp; Blade: Warband</td>\n",
       "      <td>1061149.2</td>\n",
       "    </tr>\n",
       "    <tr>\n",
       "      <th>9</th>\n",
       "      <td>Fallout 4</td>\n",
       "      <td>1004202.3</td>\n",
       "    </tr>\n",
       "    <tr>\n",
       "      <th>10</th>\n",
       "      <td>Grand Theft Auto V</td>\n",
       "      <td>893414.9</td>\n",
       "    </tr>\n",
       "    <tr>\n",
       "      <th>11</th>\n",
       "      <td>Borderlands 2</td>\n",
       "      <td>888737.2</td>\n",
       "    </tr>\n",
       "    <tr>\n",
       "      <th>12</th>\n",
       "      <td>FINAL FANTASY XIV Online</td>\n",
       "      <td>767477.6</td>\n",
       "    </tr>\n",
       "    <tr>\n",
       "      <th>13</th>\n",
       "      <td>Sid Meier's Civilization V</td>\n",
       "      <td>741172.5</td>\n",
       "    </tr>\n",
       "    <tr>\n",
       "      <th>14</th>\n",
       "      <td>Counter-Strike: Global Offensive</td>\n",
       "      <td>722733.8</td>\n",
       "    </tr>\n",
       "  </tbody>\n",
       "</table>\n",
       "</div>"
      ],
      "text/plain": [
       "                                name       hours\n",
       "0                    Team Fortress 2  10728980.6\n",
       "1                               Rust   3897236.2\n",
       "2              ARK: Survival Evolved   2685536.6\n",
       "3                             Arma 3   2587551.2\n",
       "4                        Garry's Mod   2479820.8\n",
       "5                           Warframe   2157596.8\n",
       "6                               DayZ   1255647.1\n",
       "7             Counter-Strike: Source   1184695.3\n",
       "8             Mount & Blade: Warband   1061149.2\n",
       "9                          Fallout 4   1004202.3\n",
       "10                Grand Theft Auto V    893414.9\n",
       "11                     Borderlands 2    888737.2\n",
       "12          FINAL FANTASY XIV Online    767477.6\n",
       "13        Sid Meier's Civilization V    741172.5\n",
       "14  Counter-Strike: Global Offensive    722733.8"
      ]
     },
     "execution_count": 123,
     "metadata": {},
     "output_type": "execute_result"
    }
   ],
   "source": [
    "# Groupby to show the most played games on Steam\n",
    "df_count = final_dataframe.groupby('name')['hours'].sum().sort_values(ascending=False).head(15)\n",
    "df_count = df_count.to_frame()\n",
    "df_count = df_count.reset_index()\n",
    "df_count"
   ]
  },
  {
   "cell_type": "code",
   "execution_count": 124,
   "metadata": {},
   "outputs": [
    {
     "data": {
      "image/png": "[encoded data removed]",
      "text/plain": [
       "<Figure size 720x576 with 1 Axes>"
      ]
     },
     "metadata": {
      "needs_background": "light"
     },
     "output_type": "display_data"
    }
   ],
   "source": [
    "fig = plt.figure(figsize = (10, 8)) \n",
    "plt.xlabel(\"Game Title\")\n",
    "plt.ylabel(\"Total Hours Played\")\n",
    "plt.title(\"Top-20 Games in terms number of Hours\")\n",
    "\n",
    "\n",
    "plt.bar(df_count['name'], df_count[\"hours\"], color=plt.cm.Paired(np.arange(len(df_count))))\n",
    "plt.xticks(rotation='vertical')\n",
    "plt.show()"
   ]
  },
  {
   "cell_type": "code",
   "execution_count": 125,
   "metadata": {},
   "outputs": [
    {
     "data": {
      "text/html": [
       "<div>\n",
       "<style scoped>\n",
       "    .dataframe tbody tr th:only-of-type {\n",
       "        vertical-align: middle;\n",
       "    }\n",
       "\n",
       "    .dataframe tbody tr th {\n",
       "        vertical-align: top;\n",
       "    }\n",
       "\n",
       "    .dataframe thead th {\n",
       "        text-align: right;\n",
       "    }\n",
       "</style>\n",
       "<table border=\"1\" class=\"dataframe\">\n",
       "  <thead>\n",
       "    <tr style=\"text-align: right;\">\n",
       "      <th></th>\n",
       "      <th>user_name</th>\n",
       "      <th>hours</th>\n",
       "    </tr>\n",
       "  </thead>\n",
       "  <tbody>\n",
       "    <tr>\n",
       "      <th>0</th>\n",
       "      <td>123</td>\n",
       "      <td>1234082.7</td>\n",
       "    </tr>\n",
       "    <tr>\n",
       "      <th>1</th>\n",
       "      <td>alex</td>\n",
       "      <td>199439.5</td>\n",
       "    </tr>\n",
       "    <tr>\n",
       "      <th>2</th>\n",
       "      <td>chris</td>\n",
       "      <td>179494.0</td>\n",
       "    </tr>\n",
       "    <tr>\n",
       "      <th>3</th>\n",
       "      <td>947183 / terrix - hourboost.com</td>\n",
       "      <td>162177.0</td>\n",
       "    </tr>\n",
       "    <tr>\n",
       "      <th>4</th>\n",
       "      <td>shadow</td>\n",
       "      <td>145825.3</td>\n",
       "    </tr>\n",
       "    <tr>\n",
       "      <th>5</th>\n",
       "      <td>red</td>\n",
       "      <td>145066.1</td>\n",
       "    </tr>\n",
       "    <tr>\n",
       "      <th>6</th>\n",
       "      <td>jack</td>\n",
       "      <td>144966.6</td>\n",
       "    </tr>\n",
       "    <tr>\n",
       "      <th>7</th>\n",
       "      <td>matt</td>\n",
       "      <td>135442.3</td>\n",
       "    </tr>\n",
       "    <tr>\n",
       "      <th>8</th>\n",
       "      <td>nick</td>\n",
       "      <td>130499.8</td>\n",
       "    </tr>\n",
       "    <tr>\n",
       "      <th>9</th>\n",
       "      <td>mike</td>\n",
       "      <td>128036.5</td>\n",
       "    </tr>\n",
       "    <tr>\n",
       "      <th>10</th>\n",
       "      <td>james</td>\n",
       "      <td>125316.7</td>\n",
       "    </tr>\n",
       "    <tr>\n",
       "      <th>11</th>\n",
       "      <td>ghost</td>\n",
       "      <td>123913.9</td>\n",
       "    </tr>\n",
       "    <tr>\n",
       "      <th>12</th>\n",
       "      <td>sam</td>\n",
       "      <td>121736.1</td>\n",
       "    </tr>\n",
       "    <tr>\n",
       "      <th>13</th>\n",
       "      <td>tom</td>\n",
       "      <td>120582.7</td>\n",
       "    </tr>\n",
       "    <tr>\n",
       "      <th>14</th>\n",
       "      <td>dan</td>\n",
       "      <td>120324.5</td>\n",
       "    </tr>\n",
       "    <tr>\n",
       "      <th>15</th>\n",
       "      <td>bob</td>\n",
       "      <td>116897.7</td>\n",
       "    </tr>\n",
       "    <tr>\n",
       "      <th>16</th>\n",
       "      <td>...</td>\n",
       "      <td>114431.6</td>\n",
       "    </tr>\n",
       "    <tr>\n",
       "      <th>17</th>\n",
       "      <td>tuong</td>\n",
       "      <td>111760.8</td>\n",
       "    </tr>\n",
       "    <tr>\n",
       "      <th>18</th>\n",
       "      <td>ace</td>\n",
       "      <td>102371.0</td>\n",
       "    </tr>\n",
       "    <tr>\n",
       "      <th>19</th>\n",
       "      <td>max</td>\n",
       "      <td>98068.9</td>\n",
       "    </tr>\n",
       "  </tbody>\n",
       "</table>\n",
       "</div>"
      ],
      "text/plain": [
       "                          user_name      hours\n",
       "0                               123  1234082.7\n",
       "1                              alex   199439.5\n",
       "2                             chris   179494.0\n",
       "3   947183 / terrix - hourboost.com   162177.0\n",
       "4                            shadow   145825.3\n",
       "5                               red   145066.1\n",
       "6                              jack   144966.6\n",
       "7                              matt   135442.3\n",
       "8                              nick   130499.8\n",
       "9                              mike   128036.5\n",
       "10                            james   125316.7\n",
       "11                            ghost   123913.9\n",
       "12                              sam   121736.1\n",
       "13                              tom   120582.7\n",
       "14                              dan   120324.5\n",
       "15                              bob   116897.7\n",
       "16                              ...   114431.6\n",
       "17                            tuong   111760.8\n",
       "18                              ace   102371.0\n",
       "19                              max    98068.9"
      ]
     },
     "execution_count": 125,
     "metadata": {},
     "output_type": "execute_result"
    }
   ],
   "source": [
    "# Top 20 most active users by hours played\n",
    "df_count=final_dataframe.groupby('user_name')['hours'].sum().sort_values(ascending=False).head(20)\n",
    "df_count = df_count.to_frame()\n",
    "df_count = df_count.reset_index()\n",
    "df_count"
   ]
  },
  {
   "cell_type": "code",
   "execution_count": 126,
   "metadata": {},
   "outputs": [
    {
     "data": {
      "image/png": "[encoded data removed]",
      "text/plain": [
       "<Figure size 720x576 with 1 Axes>"
      ]
     },
     "metadata": {
      "needs_background": "light"
     },
     "output_type": "display_data"
    }
   ],
   "source": [
    "fig = plt.figure(figsize = (10, 8)) \n",
    "plt.xlabel(\"User Name\")\n",
    "plt.ylabel(\"Total Hours Played\")\n",
    "plt.title(\"Top-20 Users in terms number of Hours\")\n",
    "\n",
    "\n",
    "plt.bar(df_count['user_name'], df_count[\"hours\"], color=plt.cm.Paired(np.arange(len(df_count))))\n",
    "plt.xticks(rotation='vertical')\n",
    "plt.show()"
   ]
  },
  {
   "cell_type": "code",
   "execution_count": 128,
   "metadata": {},
   "outputs": [],
   "source": [
    "# Pivot table \n",
    "pivot = pd.pivot_table(final_dataframe, index='user_name',columns='name',values='hours')\n",
    "pivot.fillna(0,inplace=True)"
   ]
  },
  {
   "cell_type": "code",
   "execution_count": 129,
   "metadata": {},
   "outputs": [],
   "source": [
    "# Assiging previous groupbys to variables to plot\n",
    "top_users = final_dataframe.groupby('user_name')['hours'].sum().sort_values(ascending=False).index[0:50]\n",
    "top_games = final_dataframe.groupby('name')['hours'].sum().sort_values(ascending=False).index[0:50]"
   ]
  },
  {
   "cell_type": "code",
   "execution_count": 131,
   "metadata": {},
   "outputs": [
    {
     "data": {
      "text/plain": [
       "Index(['Team Fortress 2', 'Rust', 'ARK: Survival Evolved', 'Arma 3',\n",
       "       'Garry's Mod', 'Warframe', 'DayZ', 'Counter-Strike: Source',\n",
       "       'Mount & Blade: Warband', 'Fallout 4', 'Grand Theft Auto V',\n",
       "       'Borderlands 2', 'FINAL FANTASY XIV Online',\n",
       "       'Sid Meier's Civilization V', 'Counter-Strike: Global Offensive',\n",
       "       'Z1 Battle Royale', 'Clicker Heroes', 'SMITE',\n",
       "       'Tom Clancy's Rainbow Six Siege', 'Robocraft', 'Kerbal Space Program',\n",
       "       'Crusader Kings II', 'Arma 2: Operation Arrowhead', 'APB Reloaded',\n",
       "       'Starbound', 'Realm of the Mad God Exalt', 'Heroes & Generals',\n",
       "       'Company of Heroes 2', 'Chivalry: Medieval Warfare',\n",
       "       'Total War: ROME II - Emperor Edition', 'Euro Truck Simulator 2',\n",
       "       'The Elder Scrolls Online', 'Paladins', 'Brawlhalla', 'DARK SOULS III',\n",
       "       'Trove', 'DARK SOULS II', 'Awesomenauts - the 2D moba', 'Unturned',\n",
       "       'Factorio', 'The Binding of Isaac: Rebirth', 'Black Desert',\n",
       "       'Tree of Savior (English Ver.)', 'PlanetSide 2', 'EVE Online',\n",
       "       'Left 4 Dead', 'Star Trek Online', 'Hearts of Iron IV',\n",
       "       'Killing Floor 2', 'XCOM: Enemy Unknown'],\n",
       "      dtype='object', name='name')"
      ]
     },
     "execution_count": 131,
     "metadata": {},
     "output_type": "execute_result"
    }
   ],
   "source": [
    "top_games"
   ]
  },
  {
   "cell_type": "code",
   "execution_count": 132,
   "metadata": {},
   "outputs": [],
   "source": [
    "dff = final_dataframe[final_dataframe['user_name'].isin(top_users)]\n",
    "dff = dff[dff['name'].isin(top_games)]\n",
    "pivot2 = pd.pivot_table(dff, values='hours', index=['user_name'], columns=['name'], aggfunc=np.sum).fillna(0)"
   ]
  },
  {
   "cell_type": "code",
   "execution_count": 133,
   "metadata": {},
   "outputs": [
    {
     "data": {
      "image/png": "[encoded data removed]",
      "text/plain": [
       "<Figure size 1152x864 with 4 Axes>"
      ]
     },
     "metadata": {
      "needs_background": "light"
     },
     "output_type": "display_data"
    }
   ],
   "source": [
    "sns.clustermap(pivot2,  figsize=(16,12));"
   ]
  },
  {
   "cell_type": "code",
   "execution_count": 134,
   "metadata": {},
   "outputs": [
    {
     "data": {
      "text/html": [
       "<div>\n",
       "<style scoped>\n",
       "    .dataframe tbody tr th:only-of-type {\n",
       "        vertical-align: middle;\n",
       "    }\n",
       "\n",
       "    .dataframe tbody tr th {\n",
       "        vertical-align: top;\n",
       "    }\n",
       "\n",
       "    .dataframe thead th {\n",
       "        text-align: right;\n",
       "    }\n",
       "</style>\n",
       "<table border=\"1\" class=\"dataframe\">\n",
       "  <thead>\n",
       "    <tr style=\"text-align: right;\">\n",
       "      <th></th>\n",
       "      <th>user</th>\n",
       "      <th>n</th>\n",
       "    </tr>\n",
       "  </thead>\n",
       "  <tbody>\n",
       "    <tr>\n",
       "      <th>0</th>\n",
       "      <td>alex</td>\n",
       "      <td>1732</td>\n",
       "    </tr>\n",
       "    <tr>\n",
       "      <th>1</th>\n",
       "      <td>123</td>\n",
       "      <td>1640</td>\n",
       "    </tr>\n",
       "    <tr>\n",
       "      <th>2</th>\n",
       "      <td>chris</td>\n",
       "      <td>1427</td>\n",
       "    </tr>\n",
       "    <tr>\n",
       "      <th>3</th>\n",
       "      <td>nick</td>\n",
       "      <td>1365</td>\n",
       "    </tr>\n",
       "    <tr>\n",
       "      <th>4</th>\n",
       "      <td>matt</td>\n",
       "      <td>1298</td>\n",
       "    </tr>\n",
       "  </tbody>\n",
       "</table>\n",
       "</div>"
      ],
      "text/plain": [
       "    user     n\n",
       "0   alex  1732\n",
       "1    123  1640\n",
       "2  chris  1427\n",
       "3   nick  1365\n",
       "4   matt  1298"
      ]
     },
     "execution_count": 134,
     "metadata": {},
     "output_type": "execute_result"
    }
   ],
   "source": [
    "# User counts df\n",
    "\n",
    "user_counts = final_dataframe.groupby('user_name')['user_name'].agg('count').sort_values(ascending=False)\n",
    "user_df = pd.DataFrame({'user': user_counts.index, 'n': user_counts.values})\n",
    "user_df.head()"
   ]
  },
  {
   "cell_type": "code",
   "execution_count": 136,
   "metadata": {},
   "outputs": [
    {
     "data": {
      "text/html": [
       "<div>\n",
       "<style scoped>\n",
       "    .dataframe tbody tr th:only-of-type {\n",
       "        vertical-align: middle;\n",
       "    }\n",
       "\n",
       "    .dataframe tbody tr th {\n",
       "        vertical-align: top;\n",
       "    }\n",
       "\n",
       "    .dataframe thead th {\n",
       "        text-align: right;\n",
       "    }\n",
       "</style>\n",
       "<table border=\"1\" class=\"dataframe\">\n",
       "  <thead>\n",
       "    <tr style=\"text-align: right;\">\n",
       "      <th></th>\n",
       "      <th>game</th>\n",
       "      <th>n</th>\n",
       "    </tr>\n",
       "  </thead>\n",
       "  <tbody>\n",
       "    <tr>\n",
       "      <th>0</th>\n",
       "      <td>Team Fortress 2</td>\n",
       "      <td>13483</td>\n",
       "    </tr>\n",
       "    <tr>\n",
       "      <th>1</th>\n",
       "      <td>Rust</td>\n",
       "      <td>8875</td>\n",
       "    </tr>\n",
       "    <tr>\n",
       "      <th>2</th>\n",
       "      <td>Borderlands 2</td>\n",
       "      <td>5854</td>\n",
       "    </tr>\n",
       "    <tr>\n",
       "      <th>3</th>\n",
       "      <td>Fallout 4</td>\n",
       "      <td>5132</td>\n",
       "    </tr>\n",
       "    <tr>\n",
       "      <th>4</th>\n",
       "      <td>DayZ</td>\n",
       "      <td>5127</td>\n",
       "    </tr>\n",
       "  </tbody>\n",
       "</table>\n",
       "</div>"
      ],
      "text/plain": [
       "              game      n\n",
       "0  Team Fortress 2  13483\n",
       "1             Rust   8875\n",
       "2    Borderlands 2   5854\n",
       "3        Fallout 4   5132\n",
       "4             DayZ   5127"
      ]
     },
     "execution_count": 136,
     "metadata": {},
     "output_type": "execute_result"
    }
   ],
   "source": [
    "# Game counts df\n",
    "\n",
    "game_counts = final_dataframe.groupby('name')['name'].agg('count').sort_values(ascending=False)\n",
    "game_df = pd.DataFrame({'game': game_counts.index, 'n': game_counts.values})\n",
    "game_df.head()"
   ]
  },
  {
   "cell_type": "code",
   "execution_count": 138,
   "metadata": {},
   "outputs": [
    {
     "name": "stdout",
     "output_type": "stream",
     "text": [
      "5604 users out of 9145 (61.27938764352105%) in total explain 80.0% of the events in the data.\n"
     ]
    },
    {
     "data": {
      "image/png": "[encoded data removed]",
      "text/plain": [
       "<Figure size 432x288 with 1 Axes>"
      ]
     },
     "metadata": {
      "needs_background": "light"
     },
     "output_type": "display_data"
    }
   ],
   "source": [
    "n_events = np.sum(user_df['n'])\n",
    "csum = np.cumsum(100.0*user_df['n']/n_events)\n",
    "\n",
    "# 80% of data\n",
    "threshold = 80.0\n",
    "threshold_idx = np.argmin(np.abs(csum-threshold))\n",
    "plt.plot(csum)\n",
    "plt.xlabel('Number of Users')\n",
    "plt.ylabel('Probability')\n",
    "plt.axvline(threshold_idx, color='r')\n",
    "plt.title('Cumulative Sum of User Event Counts')\n",
    "print('{} users out of {} ({}%) in total explain {}% of the events in the data.'.format(threshold_idx, user_df.shape[0], 100.0*threshold_idx/user_df.shape[0], threshold));"
   ]
  },
  {
   "cell_type": "code",
   "execution_count": 141,
   "metadata": {},
   "outputs": [
    {
     "name": "stdout",
     "output_type": "stream",
     "text": [
      "1078 games out of 3007 (35.849684070502164%) in total explain 80.0% of the events in the data.\n"
     ]
    },
    {
     "data": {
      "image/png": "[encoded data removed]",
      "text/plain": [
       "<Figure size 432x288 with 1 Axes>"
      ]
     },
     "metadata": {
      "needs_background": "light"
     },
     "output_type": "display_data"
    }
   ],
   "source": [
    "# Plotting cumulative sum of game counts\n",
    "\n",
    "n_events = np.sum(game_df['n'])\n",
    "csum = np.cumsum(100.0*game_df['n']/n_events)\n",
    "\n",
    "# 80% of data\n",
    "threshold = 80.0\n",
    "\n",
    "threshold_idx = np.argmin(np.abs(csum-threshold))\n",
    "plt.plot(csum)\n",
    "plt.xlabel('Number of Games')\n",
    "plt.ylabel('Probability')\n",
    "plt.axvline(threshold_idx, color='r')\n",
    "plt.title('Cumulative Sum of Game Event Counts')\n",
    "print('{} games out of {} ({}%) in total explain {}% of the events in the data.'.format(threshold_idx, game_df.shape[0], 100.0*threshold_idx/game_df.shape[0], threshold))"
   ]
  },
  {
   "cell_type": "code",
   "execution_count": null,
   "metadata": {},
   "outputs": [],
   "source": []
  }
 ],
 "metadata": {
  "kernelspec": {
   "display_name": "Python 3",
   "language": "python",
   "name": "python3"
  },
  "language_info": {
   "codemirror_mode": {
    "name": "ipython",
    "version": 3
   },
   "file_extension": ".py",
   "mimetype": "text/x-python",
   "name": "python",
   "nbconvert_exporter": "python",
   "pygments_lexer": "ipython3",
   "version": "3.8.5"
  }
 },
 "nbformat": 4,
 "nbformat_minor": 4
}
